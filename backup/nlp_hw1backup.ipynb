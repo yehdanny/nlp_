{
  "nbformat": 4,
  "nbformat_minor": 0,
  "metadata": {
    "colab": {
      "name": "nlp_hw1.ipynb",
      "provenance": [],
      "collapsed_sections": []
    },
    "kernelspec": {
      "name": "python3",
      "display_name": "Python 3"
    },
    "language_info": {
      "name": "python"
    }
  },
  "cells": [
    {
      "cell_type": "markdown",
      "metadata": {
        "id": "_oxaKwJBj2nh"
      },
      "source": [
        "# test區塊\n"
      ]
    },
    {
      "cell_type": "code",
      "metadata": {
        "colab": {
          "base_uri": "https://localhost:8080/"
        },
        "id": "8YUZk3Pfj9cl",
        "outputId": "03036520-5ca8-4a17-ac53-19193a515561"
      },
      "source": [
        "import jieba\n",
        "\n",
        "strs=[\"我来到北京清华大学\",\"乒乓球拍卖完了\",\"中国科学技术大学\"]\n",
        "\n",
        "seg_list = jieba.cut(\"他来到了网易杭研大厦\")  # 精确模式\n",
        "print(\",\".join(seg_list))\n",
        "\n"
      ],
      "execution_count": 4,
      "outputs": [
        {
          "output_type": "stream",
          "text": [
            "他,来到,了,网易,杭研,大厦\n"
          ],
          "name": "stdout"
        }
      ]
    },
    {
      "cell_type": "code",
      "metadata": {
        "colab": {
          "base_uri": "https://localhost:8080/"
        },
        "id": "cqV9BjYRPt6r",
        "outputId": "329a4ec6-c9ee-4447-ebf1-cf0b3d2aa4b3"
      },
      "source": [
        "import jieba\n",
        "import jieba.posseg as pseg\n",
        "jieba.enable_paddle()\n",
        "words = pseg.cut(\"我爱北京天安门我\",use_paddle=True) #paddle模式\n",
        "for word, flag in words:\n",
        "  print('%s ' % (word))"
      ],
      "execution_count": 5,
      "outputs": [
        {
          "output_type": "stream",
          "text": [
            "Paddle enabled successfully......\n"
          ],
          "name": "stderr"
        },
        {
          "output_type": "stream",
          "text": [
            "我 \n",
            "爱 \n",
            "北京天安门 \n",
            "我 \n"
          ],
          "name": "stdout"
        }
      ]
    },
    {
      "cell_type": "markdown",
      "metadata": {
        "id": "aESIliJjkDnR"
      },
      "source": [
        "# Demo Part\n"
      ]
    },
    {
      "cell_type": "code",
      "metadata": {
        "colab": {
          "base_uri": "https://localhost:8080/"
        },
        "id": "bZBnT_M0QvwZ",
        "outputId": "96aac963-c425-4a0e-c9de-40c338ba4f6f"
      },
      "source": [
        "import jieba\n",
        "txt = open(\"hw1-dataset.txt\",\"r\",encoding=\"utf-8\").read()\n",
        "words = jieba.lcut(txt)\n",
        "counts = {} \n",
        "for word in words:\n",
        "  if len(word) == 1:\n",
        "    continue\n",
        "  else:\n",
        "    counts[word] = counts.get(word,0) + 1\n",
        "items = list(counts.items()) \n",
        "itemstfidf = list(counts.items())\n",
        "items.sort(key=lambda x:x[1], reverse=True) #從大到小\n",
        "for i in range(100):\n",
        "  word, count = items[i]\n",
        "  print(\"{0:<10}{1:>5}\".format(word, count))"
      ],
      "execution_count": 55,
      "outputs": [
        {
          "output_type": "stream",
          "text": [
            "八卦        79119\n",
            "什麼        57760\n",
            "台灣        35851\n",
            "怎麼        33196\n",
            "可以        23236\n",
            "肥宅        21771\n",
            "是不是       21560\n",
            "真的        16890\n",
            "知道        14114\n",
            "自己        13560\n",
            "不是        11943\n",
            "現在        11279\n",
            "就是        11021\n",
            "不會        10751\n",
            "如果        10690\n",
            "還是        10589\n",
            "一個        10535\n",
            "中國        10230\n",
            "一堆        10098\n",
            "這樣         9671\n",
            "有人         9666\n",
            "怎樣         8861\n",
            "時候         8806\n",
            "女生         8630\n",
            "日本         8594\n",
            "一樣         8514\n",
            "到底         8471\n",
            "不要         8245\n",
            "大家         7886\n",
            "沒有         7745\n",
            "...        7547\n",
            "很多         7488\n",
            "應該         7003\n",
            "喜歡         6782\n",
            "因為         6652\n",
            "看到         6323\n",
            "朋友         6303\n",
            "問題         6177\n",
            "感覺         6147\n",
            "哪個         6126\n",
            "如何         6007\n",
            "這麼         5924\n",
            "多少         5830\n",
            "一直         5686\n",
            "覺得         5527\n",
            "這種         5414\n",
            "美國         5358\n",
            "不能         5267\n",
            "不用         5230\n",
            "根本         4952\n",
            "一定         4863\n",
            "正妹         4833\n",
            "其實         4623\n",
            "只有         4487\n",
            "為何         4464\n",
            "還有         4373\n",
            "東西         4368\n",
            "比較         4308\n",
            "台北         4288\n",
            "那麼         4264\n",
            "可能         4249\n",
            "以前         4139\n",
            "QQ         3990\n",
            "時間         3965\n",
            "一下         3937\n",
            "開始         3919\n",
            "這個         3850\n",
            "妹妹         3812\n",
            "哪裡         3806\n",
            "世界         3792\n",
            "今天         3775\n",
            "沒人         3725\n",
            "甚麼         3700\n",
            "出來         3656\n",
            "所以         3633\n",
            "那個         3577\n",
            "直接         3563\n",
            "發現         3559\n",
            "中國人        3554\n",
            "國家         3554\n",
            "不到         3494\n",
            "工作         3483\n",
            "只是         3395\n",
            "男生         3323\n",
            "好吃         3320\n",
            "他們         3220\n",
            "公司         3199\n",
            "老婆         3157\n",
            "女友         3146\n",
            "已經         2959\n",
            "老師         2943\n",
            "大學         2937\n",
            "變成         2877\n",
            "人家         2840\n",
            "一起         2829\n",
            "邊緣         2807\n",
            "我們         2786\n",
            "結果         2786\n",
            "南部         2744\n",
            "需要         2726\n"
          ],
          "name": "stdout"
        }
      ]
    },
    {
      "cell_type": "markdown",
      "metadata": {
        "id": "6WQh7Guajl-p"
      },
      "source": [
        "# fig#1\n"
      ]
    },
    {
      "cell_type": "code",
      "metadata": {
        "id": "Tfy9Urgh1I1q"
      },
      "source": [
        "n=0\n",
        "lista=[]\n",
        "listb=[]\n",
        "while n<101:\n",
        "  lista.append(items[n][0])\n",
        "  listb.append(items[100-n][1])\n",
        "  n+=1\n",
        "#lista\n",
        "\n",
        "lista2=list(range(0,101))\n",
        "lista2"
      ],
      "execution_count": null,
      "outputs": []
    },
    {
      "cell_type": "code",
      "metadata": {
        "id": "3ONnzGFXjx2H"
      },
      "source": [
        "#418202\n",
        "import math\n",
        "n=0\n",
        "tlist=[]\n",
        "MA=math.log(418202)\n",
        "for n in range(0,101):\n",
        "  k=listb[n]\n",
        "  m=float(MA/k)\n",
        "  tlist.append(m)\n",
        "  n+1\n",
        "\n",
        "tlist"
      ],
      "execution_count": null,
      "outputs": []
    },
    {
      "cell_type": "code",
      "metadata": {
        "colab": {
          "base_uri": "https://localhost:8080/",
          "height": 278
        },
        "id": "c0DqDug24beg",
        "outputId": "09b0b927-82b2-4b2c-e83c-b364fafee57a"
      },
      "source": [
        "# x軸 字詞編號\n",
        "# y軸 頻率\n",
        "import matplotlib.pyplot as plt\n",
        "import pandas as pd\n",
        "plt.bar(lista2,tlist, \n",
        "        width=0.5, \n",
        "        bottom=None, \n",
        "        align='center', \n",
        "        color=['lightsteelblue', \n",
        "               'cornflowerblue', \n",
        "               'royalblue', \n",
        "               'midnightblue', \n",
        "               'navy', \n",
        "               'darkblue', \n",
        "               'mediumblue'])\n",
        "plt.xticks(rotation='vertical')\n",
        "plt.show()"
      ],
      "execution_count": 68,
      "outputs": [
        {
          "output_type": "display_data",
          "data": {
            "image/png": "[encoded data removed]",
            "text/plain": [
              "<Figure size 432x288 with 1 Axes>"
            ]
          },
          "metadata": {
            "tags": [],
            "needs_background": "light"
          }
        }
      ]
    },
    {
      "cell_type": "markdown",
      "metadata": {
        "id": "de0JGPwGjmkb"
      },
      "source": [
        "# fig#2"
      ]
    },
    {
      "cell_type": "code",
      "metadata": {
        "id": "lQcj03oNfxJu"
      },
      "source": [
        "\n",
        "n=0\n",
        "lista=[]\n",
        "listb=[]\n",
        "while n<100:\n",
        "  lista.append(items[n][0])\n",
        "  listb.append(items[n][1])\n",
        "  n+=1\n",
        "#lista\n",
        "#listb\n",
        "lista2=list(range(1,101))\n",
        "\n",
        "#c=[str(lista2[i])+lista[i] for i in range(min(len(lista),len(lista2)))]\n",
        "#c"
      ],
      "execution_count": 62,
      "outputs": []
    },
    {
      "cell_type": "code",
      "metadata": {
        "colab": {
          "base_uri": "https://localhost:8080/",
          "height": 274
        },
        "id": "NfEJoKb6RP4y",
        "outputId": "2449cd83-77a3-4770-c2d9-454450478609"
      },
      "source": [
        "# x軸 字詞編號\n",
        "# y軸 頻率\n",
        "import matplotlib.pyplot as plt\n",
        "import pandas as pd\n",
        "plt.bar(lista2,listb, \n",
        "        width=0.5, \n",
        "        bottom=None, \n",
        "        align='center', \n",
        "        color=['lightsteelblue', \n",
        "               'cornflowerblue', \n",
        "               'royalblue', \n",
        "               'midnightblue', \n",
        "               'navy', \n",
        "               'darkblue', \n",
        "               'mediumblue'])\n",
        "plt.xticks(rotation='vertical')\n",
        "plt.show()"
      ],
      "execution_count": 63,
      "outputs": [
        {
          "output_type": "display_data",
          "data": {
            "image/png": "[encoded data removed]",
            "text/plain": [
              "<Figure size 432x288 with 1 Axes>"
            ]
          },
          "metadata": {
            "tags": [],
            "needs_background": "light"
          }
        }
      ]
    },
    {
      "cell_type": "code",
      "metadata": {
        "id": "pb0aboxnRW5k"
      },
      "source": [
        ""
      ],
      "execution_count": null,
      "outputs": []
    }
  ]
}