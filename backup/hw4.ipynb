{
  "nbformat": 4,
  "nbformat_minor": 0,
  "metadata": {
    "kernelspec": {
      "display_name": "Python 3",
      "language": "python",
      "name": "python3"
    },
    "language_info": {
      "codemirror_mode": {
        "name": "ipython",
        "version": 3
      },
      "file_extension": ".py",
      "mimetype": "text/x-python",
      "name": "python",
      "nbconvert_exporter": "python",
      "pygments_lexer": "ipython3",
      "version": "3.8.5"
    },
    "colab": {
      "name": "NLP_HW04.ipynb",
      "provenance": []
    }
  },
  "cells": [
    {
      "cell_type": "markdown",
      "metadata": {
        "id": "0pha3kHJOe3z"
      },
      "source": [
        "CJHW#4  word2vec實作相似關鍵詞延伸 (fastText也⾏行行)1. 訓練給定中⽂文語料庫 (2G) https://drive.google.com/file/d/1EdHUZIDpgcBoSqbjlfNKJ3b1t0XIUjbt/view?usp=sharing2. 分詞訓練 word2vec (fastText), opencc 繁簡體轉換    2.1 pip install word2vec3. 得到相似關鍵詞延伸模型    3.1 輸入 ex “李知恩”    3.2 輸出前⼆二⼗十個相關詞    3.3 ⾃自⾏行行調整參參數去看看輸出結果    3.4 分數以輸出詞的相關度評分"
      ]
    },
    {
      "cell_type": "markdown",
      "metadata": {
        "id": "wVojm4MzOSGA"
      },
      "source": [
        "<h1>\n",
        "DeMO"
      ]
    },
    {
      "cell_type": "code",
      "metadata": {
        "id": "qA6OsP3ZN4aF"
      },
      "source": [
        "import warnings\n",
        "import gensim, logging\n",
        "warnings.filterwarnings('ignore')"
      ],
      "execution_count": null,
      "outputs": []
    },
    {
      "cell_type": "code",
      "metadata": {
        "collapsed": true,
        "id": "T09pNnwwN4aI",
        "outputId": "0264b47c-8dc2-480c-911e-47cfbdaa10f2"
      },
      "source": [
        "import os\n",
        "from opencc import OpenCC\n",
        "import json\n",
        "import re\n",
        "import jieba\n",
        "#trans\n",
        "cc = OpenCC('s2t')\n",
        "Path=r\"C:\\Users\\danny\\wiki2019\\wiki_zh\"\n",
        "\n",
        "def replace_all_blank(value):        #replace\n",
        "  result=re.sub('\\W+',' ',value).replace(\"_\",  '')\n",
        "  return result\n",
        "\n",
        "def writefile(dirPath):\n",
        "    for dirc in os.listdir(dirPath):\n",
        "        for lis in os.listdir(dirPath+\"\\\\\"+dirc):\n",
        "            with open(\"wiki.txt\", 'a', encoding='utf-8') as new_f:\n",
        "                with open(dirPath+\"\\\\\"+dirc+\"\\\\\"+lis, 'r', newline='', encoding='utf-8') as file:\n",
        "                    for times, data in enumerate(file, 1):\n",
        "                        #print('data num:', times)\n",
        "                        data = cc.convert(data)\n",
        "                        data = json.loads(data)\n",
        "                        data = replace_all_blank(data['text'])\n",
        "                        data = jieba.cut(data)\n",
        "                        data = [word for word in data if word != ' ']\n",
        "                        data = ' '.join(data)+\"\\n\"\n",
        "                        new_f.write(data)\n",
        "                        \n",
        "writefile(Path)"
      ],
      "execution_count": null,
      "outputs": [
        {
          "output_type": "execute_result",
          "data": {
            "text/plain": [
              "'for dirc in os.listdir(dirPath):\\n    for lis in os.listdir(dirPath+\"\\\\\"+dirc):\\n        with open(\"wiki.txt\", \\'a\\', encoding=\\'utf-8\\') as new_f:\\n            with open(dirPath+\"\\\\\"+dirc+\"\\\\\"+lis, \\'r\\', newline=\\'\\', encoding=\\'utf-8\\') as file:\\n                for times, data in enumerate(file, 1):\\n                    #print(\\'data num:\\', times)\\n                    data = cc.convert(data)\\n                    data = json.loads(data)\\n                    data = replace_all_blank(data[\\'text\\'])\\n                    data = jieba.cut(data)\\n                    data = [word for word in data if word != \\' \\']\\n                    data = \\' \\'.join(data)+\"\\n\"\\n                    new_f.write(data)\\n    \\nfor dirc in os.listdir(dirPath):\\n    print (os.listdir(dirPath+\"\\\\\"+dirc))\\ncc.convert(text)'"
            ]
          },
          "metadata": {
            "tags": []
          },
          "execution_count": 4
        }
      ]
    },
    {
      "cell_type": "code",
      "metadata": {
        "id": "Px_K4aThN4aL"
      },
      "source": [
        "from gensim.models import word2vec#Set\n",
        "seed = 666\n",
        "sg = 0\n",
        "window_size = 10\n",
        "vector_size = 100\n",
        "min_count = 1\n",
        "workers = 8\n",
        "epochs = 5\n",
        "batch_words = 10000\n",
        "train_data = word2vec.LineSentence('wiki.txt')\n",
        "#訓練\n",
        "model = word2vec.Word2Vec(\n",
        "    train_data,\n",
        "    min_count=min_count,\n",
        "    vector_size=vector_size,\n",
        "    workers=workers,\n",
        "    epochs=epochs,\n",
        "    window=window_size,\n",
        "    sg=sg,\n",
        "    seed=seed,\n",
        "    batch_words=batch_words\n",
        ")\n",
        "\n",
        "model.save('NLP_HW04.model')"
      ],
      "execution_count": null,
      "outputs": []
    },
    {
      "cell_type": "code",
      "metadata": {
        "id": "DFfF-v0fN4aM",
        "outputId": "12416b23-d919-465e-b42a-f3a0b3089282"
      },
      "source": [
        "from gensim.models import word2vec\n",
        "\n",
        "model = word2vec.Word2Vec.load('hw444.model')\n",
        "\n",
        "for item in model.wv.most_similar('電腦',topn=20):\n",
        "    print(item)"
      ],
      "execution_count": null,
      "outputs": [
        {
          "output_type": "stream",
          "text": [
            "('PDA', 0.7359637022018433)\n",
            "('計算機', 0.7237363457679749)\n",
            "('筆記型', 0.7005979418754578)\n",
            "('微電腦', 0.6991584897041321)\n",
            "('人工智慧', 0.6893282532691956)\n",
            "('印表', 0.6872910857200623)\n",
            "('傳真機', 0.6865589022636414)\n",
            "('機器', 0.675554096698761)\n",
            "('軟體', 0.670307993888855)\n",
            "('硬碟', 0.6587104201316833)\n",
            "('筆記本', 0.6566839814186096)\n",
            "('戲機', 0.6555691361427307)\n",
            "('硬體', 0.6509539484977722)\n",
            "('晶片', 0.6478882431983948)\n",
            "('港鐵車費', 0.6478851437568665)\n",
            "('電腦系', 0.6437525153160095)\n",
            "('IBM', 0.643251895904541)\n",
            "('程式', 0.6423818469047546)\n",
            "('記型', 0.6401033997535706)\n",
            "('終端機', 0.6372550129890442)\n"
          ],
          "name": "stdout"
        }
      ]
    }
  ]
}