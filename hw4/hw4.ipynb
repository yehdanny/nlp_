{
  "nbformat": 4,
  "nbformat_minor": 0,
  "metadata": {
    "colab": {
      "name": "hw4.ipynb",
      "provenance": []
    },
    "kernelspec": {
      "name": "python3",
      "display_name": "Python 3"
    },
    "language_info": {
      "name": "python"
    }
  },
  "cells": [
    {
      "cell_type": "markdown",
      "metadata": {
        "id": "zj3xivbhQ_8d"
      },
      "source": [
        "CJHW#4  word2vec實作相似關鍵詞延伸 (fastText也⾏行行)1. 訓練給定中⽂文語料庫 (2G) https://drive.google.com/file/d/1EdHUZIDpgcBoSqbjlfNKJ3b1t0XIUjbt/view?usp=sharing2. 分詞訓練 word2vec (fastText), opencc 繁簡體轉換    2.1 pip install word2vec3. 得到相似關鍵詞延伸模型    3.1 輸入 ex “李知恩”    3.2 輸出前⼆二⼗十個相關詞    3.3 ⾃自⾏行行調整參參數去看看輸出結果    3.4 分數以輸出詞的相關度評分"
      ]
    },
    {
      "cell_type": "code",
      "metadata": {
        "id": "vrVKWpI1Q8pe"
      },
      "source": [
        "import warnings\n",
        "import gensim, logging\n",
        "warnings.filterwarnings('ignore')"
      ],
      "execution_count": 4,
      "outputs": []
    },
    {
      "cell_type": "code",
      "metadata": {
        "id": "VBSJEQxlRNis"
      },
      "source": [
        "import os\n",
        "import json\n",
        "import re\n",
        "import jieba"
      ],
      "execution_count": 5,
      "outputs": []
    }
  ]
}