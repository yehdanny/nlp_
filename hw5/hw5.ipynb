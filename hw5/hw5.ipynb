{
  "nbformat": 4,
  "nbformat_minor": 0,
  "metadata": {
    "colab": {
      "name": "hw5.ipynb",
      "provenance": []
    },
    "kernelspec": {
      "name": "python3",
      "display_name": "Python 3"
    },
    "language_info": {
      "name": "python"
    }
  },
  "cells": [
    {
      "cell_type": "markdown",
      "metadata": {
        "id": "yFtzfz_mcf91"
      },
      "source": [
        "CJHW#5  seq2seq 英翻中實作1. 訓練給定中⽂文語料庫 (1.1G) 520萬筆資料 (JSON) https://drive.google.com/open?id=1EX8eE5YWBxCaohBO8Fh4e2j3b9C2bTVQ2. 利利⽤用keras / pytorch / seq2seq-lstm / sklearn    seq2seq 英翻中實作3. 輸入⼀一個簡單的英⽂文句句⼦子    3.1 “It is a nice day” —> 今天天氣真好    3.2 最後100筆為testing data (需呈現testing結果)    3.3 輸出中⽂文翻譯結果    3.4 分數以輸出中⽂文翻譯結果評分"
      ]
    },
    {
      "cell_type": "code",
      "metadata": {
        "id": "t7X4eGhHcf1B"
      },
      "source": [
        ""
      ],
      "execution_count": null,
      "outputs": []
    },
    {
      "cell_type": "code",
      "metadata": {
        "id": "uZNdF8xucbP8"
      },
      "source": [
        ""
      ],
      "execution_count": null,
      "outputs": []
    }
  ]
}