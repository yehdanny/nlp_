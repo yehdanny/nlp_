{
  "nbformat": 4,
  "nbformat_minor": 0,
  "metadata": {
    "colab": {
      "name": "hw3.ipynb",
      "provenance": []
    },
    "kernelspec": {
      "name": "python3",
      "display_name": "Python 3"
    },
    "language_info": {
      "name": "python"
    }
  },
  "cells": [
    {
      "cell_type": "code",
      "metadata": {
        "id": "5KDk3TDA_ahE"
      },
      "source": [
        "test"
      ],
      "execution_count": null,
      "outputs": []
    }
  ]
}