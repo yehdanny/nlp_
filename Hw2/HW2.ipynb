{
  "nbformat": 4,
  "nbformat_minor": 0,
  "metadata": {
    "colab": {
      "name": "HW2.ipynb",
      "provenance": [],
      "collapsed_sections": []
    },
    "kernelspec": {
      "name": "python3",
      "display_name": "Python 3"
    },
    "language_info": {
      "name": "python"
    }
  },
  "cells": [
    {
      "cell_type": "code",
      "metadata": {
        "colab": {
          "base_uri": "https://localhost:8080/"
        },
        "id": "cQZVVgDZzJqH",
        "outputId": "ec81d3fc-04f1-4d08-fbc3-007d892ca888"
      },
      "source": [
        "# Example： 奇摩電影\n",
        "import requests\n",
        "from bs4 import BeautifulSoup\n",
        "url = 'https://movies.yahoo.com.tw/movie_intheaters.html'\n",
        "r = requests.get(url)\n",
        "soup = BeautifulSoup(r.text)\n",
        "soup\n",
        "\n",
        "print('===== 網頁標題（分頁顯示名稱） =====')\n",
        "print(soup.title.text)\n",
        "print('===== 第一部電影的資訊 =====')\n",
        "# print(soup.find('a', class_='gabtn').text)\n",
        "print(soup.find('div', class_=\"release_movie_name\").find('a', class_='gabtn').text)\n",
        "print('===== 所有電影資訊 =====')\n",
        "for d in soup.find_all('div', class_=\"release_movie_name\"):\n",
        "#     print(d.find('a', class_='gabtn').text)\n",
        "#     print(d.find('a', class_='gabtn').text.replace(' ', '').replace('\\n', ''))\n",
        "    print(d.find('a', class_='gabtn').text.strip())\n",
        "\n",
        "\n",
        "\n",
        "# 動手實作\n",
        "## ① 取出本週熱門新片的「中英文名稱」、「上映日期」、「期待度」，還有「封面照片網址」（本週新片：https://movies.yahoo.com.tw/movie_thisweek.html ）\n",
        "## ② 用一個你覺得適合的型態存到一個變數內"
      ],
      "execution_count": 3,
      "outputs": [
        {
          "output_type": "stream",
          "text": [
            "===== 網頁標題（分頁顯示名稱） =====\n",
            "上映中 - Yahoo奇摩電影\n",
            "===== 第一部電影的資訊 =====\n",
            "\n",
            "                  路卡的夏天\n",
            "===== 所有電影資訊 =====\n",
            "路卡的夏天\n",
            "薄荷糖\n",
            "人聲\n",
            "雙面薇若妮卡 經典數位修復\n",
            "合法伴侶\n",
            "甲子園：夢想競技場\n",
            "青春：第50屆日本全國高中棒球錦標賽\n",
            "自殺突擊隊：集結\n",
            "驅魔禁區\n",
            "叢林奇航\n"
          ],
          "name": "stdout"
        }
      ]
    },
    {
      "cell_type": "code",
      "metadata": {
        "colab": {
          "base_uri": "https://localhost:8080/"
        },
        "id": "7emI3TtXz1dc",
        "outputId": "8fc14852-3c83-4f66-9852-a68661826990"
      },
      "source": [
        "import requests\n",
        "from bs4 import BeautifulSoup\n",
        "url = 'https://movies.yahoo.com.tw/movie_thisweek.html'\n",
        "r = requests.get(url)\n",
        "soup = BeautifulSoup(r.text)\n",
        "infos = []\n",
        "imgs = []\n",
        "for d in soup.find_all('div', class_=\"release_info\"):\n",
        "    info = {}\n",
        "    info['中文名稱'] = d.find('div', class_='release_movie_name').find('a', class_='gabtn').text.strip()\n",
        "    info['英文名稱'] = d.find('div', class_='release_movie_name').find('div', class_='en').a.text.strip()\n",
        "    info['上映日期'] = d.find('div', class_='release_movie_time').text.split('上映日期 ： ')[1]\n",
        "    #info['劇情介紹'] = d.find('div', class_='rekease_text').text.strip()    \n",
        "    info['期待度'] = ''\n",
        "    if d.find('div', class_='leveltext'):\n",
        "      info['期待度'] = d.find('div', class_='leveltext').span.text\n",
        "    infos.append(info)\n",
        "for d in soup.find_all('div', class_='release_foto'):\n",
        "    img = {}\n",
        "    img['封面照片網址'] = d.find('img')['src']\n",
        "    imgs.append(img)\n",
        "res = []\n",
        "for i, j in list(zip(infos, imgs)):\n",
        "    res.append(dict(list(i.items()) + list(j.items())))\n",
        "res"
      ],
      "execution_count": 11,
      "outputs": [
        {
          "output_type": "execute_result",
          "data": {
            "text/plain": [
              "[{'上映日期': '2021-08-11',\n",
              "  '中文名稱': '玩命關頭9',\n",
              "  '封面照片網址': 'https://movies.yahoo.com.tw/x/r/w420/i/o/production/movies/July2021/tDAKOcY2jZvGxxZI3gcp-1024x1463.jpg',\n",
              "  '期待度': '92%',\n",
              "  '英文名稱': 'Fast & Furious 9'},\n",
              " {'上映日期': '2021-08-12',\n",
              "  '中文名稱': '脫稿玩家',\n",
              "  '封面照片網址': 'https://movies.yahoo.com.tw/x/r/w420/i/o/production/movies/July2021/5rEaoBa3dspWWQS7Y0Rd-757x1080.jpg',\n",
              "  '期待度': '100%',\n",
              "  '英文名稱': 'Original title: Free Guy'},\n",
              " {'上映日期': '2021-08-13',\n",
              "  '中文名稱': '被偷走的童年',\n",
              "  '封面照片網址': 'https://movies.yahoo.com.tw/x/r/w420/i/o/production/movies/July2021/xh9896zFxerowai17WAb-756x1080.jpg',\n",
              "  '期待度': '98%',\n",
              "  '英文名稱': 'When Hitler Stole Pink Rabbit'},\n",
              " {'上映日期': '2021-08-13',\n",
              "  '中文名稱': '感動她77次',\n",
              "  '封面照片網址': 'https://movies.yahoo.com.tw/x/r/w420/i/o/production/movies/July2021/eYXgH9CBAtBvzHqIgGQw-756x1080.jpg',\n",
              "  '期待度': '99%',\n",
              "  '英文名稱': '77 Heartwarmings'},\n",
              " {'上映日期': '2021-08-13',\n",
              "  '中文名稱': '汪汪隊立大功電影版',\n",
              "  '封面照片網址': 'https://movies.yahoo.com.tw/x/r/w420/i/o/production/movies/June2021/wGi2NUfvubCXv4YDKkzq-726x1080.jpg',\n",
              "  '期待度': '100%',\n",
              "  '英文名稱': 'PAW Patrol: The Movie'},\n",
              " {'上映日期': '2021-08-13',\n",
              "  '中文名稱': '第六感追緝令',\n",
              "  '封面照片網址': 'https://movies.yahoo.com.tw/x/r/w420/i/o/production/movies/July2021/if1W4jmUvmBsZbN59scy-757x1080.jpg',\n",
              "  '期待度': '100%',\n",
              "  '英文名稱': 'Basic Instinct'},\n",
              " {'上映日期': '2021-08-13',\n",
              "  '中文名稱': '未來之書',\n",
              "  '封面照片網址': 'https://movies.yahoo.com.tw/x/r/w420/i/o/production/movies/July2021/ib5POFNyKzNBVQIEAB1m-734x1080.jpg',\n",
              "  '期待度': '100%',\n",
              "  '英文名稱': 'The Book of Vision'},\n",
              " {'上映日期': '2021-08-20',\n",
              "  '中文名稱': '密弒遊戲2：勝者危亡',\n",
              "  '封面照片網址': 'https://movies.yahoo.com.tw/x/r/w420/i/o/production/movies/June2021/PlJclByLrWSusxGojhmw-1024x1461.jpg',\n",
              "  '期待度': '95%',\n",
              "  '英文名稱': 'Escape Room: Tournament of Champions'}]"
            ]
          },
          "metadata": {
            "tags": []
          },
          "execution_count": 11
        }
      ]
    },
    {
      "cell_type": "code",
      "metadata": {
        "colab": {
          "base_uri": "https://localhost:8080/"
        },
        "id": "iHFrw1BW0Tfc",
        "outputId": "300f1dce-959c-47e1-fa5f-978cef11ee59"
      },
      "source": [
        "import requests\n",
        "from bs4 import BeautifulSoup\n",
        "infos = []\n",
        "imgs = []\n",
        "for page in range(1, 5):\n",
        "    url = 'https://movies.yahoo.com.tw/movie_intheaters.html?page=%s' % page\n",
        "    print(url)\n",
        "    r = requests.get(url)\n",
        "    soup = BeautifulSoup(r.text)\n",
        "    for d in soup.find_all('div', class_=\"release_info\"):\n",
        "        info = {}\n",
        "        info['中文名稱'] = d.find('div', class_=\"release_movie_name\").find('a', class_='gabtn').text.replace(' ', '').replace('\\n', '')\n",
        "        info['英文名稱'] = d.find('div', class_=\"release_movie_name\").find('div', class_='en').find('a', class_='gabtn').text.replace(' ', '').replace('\\n', '')\n",
        "        info['上映日期'] = d.find('div', class_='release_movie_time').text.replace('上映日期 ： ', '')\n",
        "        info['期待度'] = d.find('div', class_='leveltext').span.text\n",
        "        info['滿意度'] = d.find_all('div', class_='leveltext')[-1].span['data-num']\n",
        "        infos.append(info)\n",
        "    for d in soup.find_all('div', class_='release_foto'):\n",
        "        img = {}\n",
        "        img['封面照片網址'] = d.img['src']\n",
        "        imgs.append(img)\n",
        "results = []\n",
        "for info, img in zip(infos, imgs):\n",
        "    results.append(dict(list(info.items()) + list(img.items())))\n",
        "print(results)\n",
        "# 請問上映中的電影，滿意度前五高的分別是哪些？\n",
        "for d in sorted(results, key=lambda d: d['滿意度'])[::-1]:\n",
        "    print(d['中文名稱'], d['滿意度'])"
      ],
      "execution_count": 5,
      "outputs": [
        {
          "output_type": "stream",
          "text": [
            "https://movies.yahoo.com.tw/movie_intheaters.html?page=1\n",
            "https://movies.yahoo.com.tw/movie_intheaters.html?page=2\n",
            "https://movies.yahoo.com.tw/movie_intheaters.html?page=3\n",
            "https://movies.yahoo.com.tw/movie_intheaters.html?page=4\n",
            "[{'中文名稱': '路卡的夏天', '英文名稱': 'LUCA', '上映日期': '2021-08-06', '期待度': '92%', '滿意度': '4.4', '封面照片網址': 'https://movies.yahoo.com.tw/x/r/w420/i/o/production/movies/June2021/xmlpY0g7xMaVDF51X5TF-757x1080.jpg'}, {'中文名稱': '薄荷糖', '英文名稱': 'PeppermintCandy', '上映日期': '2021-08-06', '期待度': '56%', '滿意度': '4.2', '封面照片網址': 'https://movies.yahoo.com.tw/x/r/w420/i/o/production/movies/July2021/3ooF0pVHQ1EEUTvPRU4f-756x1080.jpg'}, {'中文名稱': '人聲', '英文名稱': 'TheHumanVoice', '上映日期': '2021-08-06', '期待度': '100%', '滿意度': '0.0', '封面照片網址': 'https://movies.yahoo.com.tw/x/r/w420/i/o/production/movies/July2021/Cuk4AuLvtGffrHApdA1H-755x1080.jpg'}, {'中文名稱': '雙面薇若妮卡經典數位修復', '英文名稱': 'TheDoubleLifeofVeronique', '上映日期': '2021-08-06', '期待度': '100%', '滿意度': '0.0', '封面照片網址': 'https://movies.yahoo.com.tw/x/r/w420/i/o/production/movies/July2021/tgUMwQ8Qerni9Z3YHXig-764x1080.jpg'}, {'中文名稱': '合法伴侶', '英文名稱': 'SpecialCouple', '上映日期': '2021-08-06', '期待度': '100%', '滿意度': '0.0', '封面照片網址': 'https://movies.yahoo.com.tw/x/r/w420/i/o/production/movies/July2021/48cD8EBgoIuvHqsS0aUD-756x1080.jpg'}, {'中文名稱': '甲子園：夢想競技場', '英文名稱': \"Koshien:Japan'sFieldofDreams\", '上映日期': '2021-08-06', '期待度': '0', '滿意度': '2.3', '封面照片網址': 'https://movies.yahoo.com.tw/x/r/w420/i/o/production/movies/August2021/rrgEoPMfwLKXAF15bA6q-514x700.jpg'}, {'中文名稱': '青春：第50屆日本全國高中棒球錦標賽', '英文名稱': 'Youth:The50thNationalHighSchoolBaseballTournament', '上映日期': '2021-08-06', '期待度': '0', '滿意度': '2.2', '封面照片網址': 'https://movies.yahoo.com.tw/x/r/w420/i/o/production/movies/August2021/Hkdfhr29o0r3U0SbAcaA-514x700.jpg'}, {'中文名稱': '自殺突擊隊：集結', '英文名稱': 'TheSuicideSquad', '上映日期': '2021-08-05', '期待度': '99%', '滿意度': '4.3', '封面照片網址': 'https://movies.yahoo.com.tw/x/r/w420/i/o/production/movies/July2021/wBcP1IO87kVxofoKeK4U-1024x1462.jpg'}, {'中文名稱': '驅魔禁區', '英文名稱': 'Demonic', '上映日期': '2021-08-05', '期待度': '100%', '滿意度': '4.0', '封面照片網址': 'https://movies.yahoo.com.tw/x/r/w420/i/o/production/movies/July2021/eVmi9QfCsk6nJn5ofEBH-1024x1464.jpg'}, {'中文名稱': '叢林奇航', '英文名稱': 'JungleCruise', '上映日期': '2021-07-30', '期待度': '95%', '滿意度': '4.0', '封面照片網址': 'https://movies.yahoo.com.tw/x/r/w420/i/o/production/movies/July2021/Y0O2wYnqnfgvrupzKFWo-757x1080.jpg'}, {'中文名稱': 'LIPXLIP享受這世界的方法', '英文名稱': 'LIPXLIPFILMXLIVE', '上映日期': '2021-07-30', '期待度': '88%', '滿意度': '3.5', '封面照片網址': 'https://movies.yahoo.com.tw/x/r/w420/i/o/production/movies/July2021/I8n09oPTzNEwbBZCCI9a-757x1080.jpg'}, {'中文名稱': '小王子公主心', '英文名稱': 'PetiteFille', '上映日期': '2021-07-30', '期待度': '50%', '滿意度': '0.0', '封面照片網址': 'https://movies.yahoo.com.tw/x/r/w420/i/o/production/movies/July2021/UHgV1BeTci6OwZa28Ry6-760x1080.jpg'}, {'中文名稱': '淘寶少年', '英文名稱': 'SunChildren', '上映日期': '2021-07-30', '期待度': '100%', '滿意度': '0.0', '封面照片網址': 'https://movies.yahoo.com.tw/x/r/w420/i/o/production/movies/July2021/KVxKA1kug0IL5eTluxxE-761x1080.jpg'}, {'中文名稱': '詭老', '英文名稱': 'Old', '上映日期': '2021-07-30', '期待度': '95%', '滿意度': '3.4', '封面照片網址': 'https://movies.yahoo.com.tw/x/r/w420/i/o/production/movies/May2021/XcsXPZfswqUrhHSFrTzf-729x1080.jpg'}, {'中文名稱': '罪之聲', '英文名稱': 'TheVoiceofSin', '上映日期': '2021-07-30', '期待度': '100%', '滿意度': '4.4', '封面照片網址': 'https://movies.yahoo.com.tw/x/r/w420/i/o/production/movies/July2021/eaDARAqZi21XFg905quM-756x1080.jpg'}, {'中文名稱': '破碎的瞬間', '英文名稱': 'MyBlood&BonesinaflowingGalaxy', '上映日期': '2021-07-30', '期待度': '0', '滿意度': '0.0', '封面照片網址': 'https://movies.yahoo.com.tw/x/r/w420/i/o/production/movies/July2021/gfOsJ3qogwoZV8BgVlxY-757x1080.jpg'}, {'中文名稱': '理髮師的男人經典數位修復', '英文名稱': \"TheHairdresser'sHusband\", '上映日期': '2021-07-30', '期待度': '0', '滿意度': '0.0', '封面照片網址': 'https://movies.yahoo.com.tw/x/r/w420/i/o/production/movies/July2021/hFVHEEOsozcIdjjxRoHQ-764x1080.jpg'}, {'中文名稱': '除暴', '英文名稱': 'CaughtInTime', '上映日期': '2021-07-30', '期待度': '67%', '滿意度': '3.9', '封面照片網址': 'https://movies.yahoo.com.tw/x/r/w420/i/o/production/movies/July2021/R5z4dsAmRtLUCIAG3Zae-756x1080.jpg'}, {'中文名稱': '太陽出來之後', '英文名稱': 'UndertheOpenSky', '上映日期': '2021-07-30', '期待度': '100%', '滿意度': '3.2', '封面照片網址': 'https://movies.yahoo.com.tw/x/r/w420/i/o/production/movies/July2021/hv2lU6JWmvRArrlFDecf-700x996.jpg'}, {'中文名稱': '怪奇大廈', '英文名稱': 'TheNightShift', '上映日期': '2021-07-30', '期待度': '100%', '滿意度': '3.8', '封面照片網址': 'https://movies.yahoo.com.tw/x/r/w420/i/o/production/movies/July2021/GdaPbZ7v3BM0fDXfvu47-756x1080.JPG'}, {'中文名稱': '厲陰宅3：是惡魔逼我的', '英文名稱': 'TheConjuring:TheDevilMadeMeDoIt', '上映日期': '2021-07-22', '期待度': '96%', '滿意度': '4.0', '封面照片網址': 'https://movies.yahoo.com.tw/x/r/w420/i/o/production/movies/April2021/66Bvvgn77HwxK16ZLTOG-729x1080.jpg'}, {'中文名稱': '宇宙特攻隊', '英文名稱': 'Cosmoball', '上映日期': '2021-07-22', '期待度': '90%', '滿意度': '0.0', '封面照片網址': 'https://movies.yahoo.com.tw/x/r/w420/i/o/production/movies/July2021/hvUn9wI9j35pXFTQ50m1-1024x1458.jpg'}, {'中文名稱': '群青戰記', '英文名稱': 'Brave:GunjoSenki', '上映日期': '2021-07-22', '期待度': '90%', '滿意度': '3.5', '封面照片網址': 'https://movies.yahoo.com.tw/x/r/w420/i/o/production/movies/July2021/XJOjNPAYUZZ4qFs0jqjB-756x1080.jpg'}, {'中文名稱': '手捲煙', '英文名稱': 'HandRolledCigarette', '上映日期': '2021-07-22', '期待度': '67%', '滿意度': '3.5', '封面照片網址': 'https://movies.yahoo.com.tw/x/r/w420/i/o/production/movies/July2021/0GUonKSIMEyFQrYcKq06-759x1080.jpg'}, {'中文名稱': '極速引爆', '英文名稱': 'HardHit', '上映日期': '2021-07-22', '期待度': '100%', '滿意度': '4.1', '封面照片網址': 'https://movies.yahoo.com.tw/x/r/w420/i/o/production/movies/July2021/ZkS4FuOm1KkDzuAZFTd6-756x1080.jpg'}, {'中文名稱': '貝加爾湖隱居札記：在這喧囂的世界，一個人到西伯利亞森林住半年', '英文名稱': 'IntheForestsofSiberia', '上映日期': '2021-07-16', '期待度': '100%', '滿意度': '3.6', '封面照片網址': 'https://movies.yahoo.com.tw/x/r/w420/i/o/production/movies/July2021/G64wwtkwYzTro4pFe5gi-800x1142.jpg'}, {'中文名稱': '花束般的戀愛', '英文名稱': 'WeMadeaBeautifulBouquet', '上映日期': '2021-07-16', '期待度': '98%', '滿意度': '4.4', '封面照片網址': 'https://movies.yahoo.com.tw/x/r/w420/i/o/production/movies/July2021/rfTwE5MTh6vJyGIbQ9IC-756x1080.jpg'}, {'中文名稱': '怪物奇兵全新世代', '英文名稱': 'SpaceJam:ANewLegacy', '上映日期': '2021-07-15', '期待度': '95%', '滿意度': '3.3', '封面照片網址': 'https://movies.yahoo.com.tw/x/r/w420/i/o/production/movies/July2021/CutPMebiceMMausABFBr-1434x2048.jpg'}, {'中文名稱': '黑寡婦', '英文名稱': 'BlackWidow', '上映日期': '2021-07-14', '期待度': '97%', '滿意度': '3.8', '封面照片網址': 'https://movies.yahoo.com.tw/x/r/w420/i/o/production/movies/June2021/WK6XHAWkYYNqsEi1gKiH-767x1080.jpg'}, {'中文名稱': '失控的審判', '英文名稱': 'TheMauritanian', '上映日期': '2021-07-14', '期待度': '93%', '滿意度': '4.2', '封面照片網址': 'https://movies.yahoo.com.tw/x/r/w420/i/o/production/movies/April2021/sqyYg9NbCTkGDFEC0ueW-739x1080.jpg'}, {'中文名稱': '野蠻糾碴隊', '英文名稱': 'WelcometotheJungle', '上映日期': '2021-07-14', '期待度': '67%', '滿意度': '0.0', '封面照片網址': 'https://movies.yahoo.com.tw/x/r/w420/i/o/production/movies/July2021/dmYonPoiOkcXhu9PXRSR-800x1169.jpg'}, {'中文名稱': '燕尾蝶：數位經典版', '英文名稱': 'SwallowtailButterfly', '上映日期': '2021-07-14', '期待度': '90%', '滿意度': '4.2', '封面照片網址': 'https://movies.yahoo.com.tw/x/r/w420/i/o/production/movies/July2021/qVjtqXRoljC8Dcziaclr-756x1080.jpg'}, {'中文名稱': '韓國校園恐怖怪談：點名沒到的學生', '英文名稱': 'SchoolStrangeStories–TheChildWhoWouldn’tCome', '上映日期': '2021-07-14', '期待度': '100%', '滿意度': '0.0', '封面照片網址': 'https://movies.yahoo.com.tw/x/r/w420/i/o/production/movies/July2021/O9adFmnSjpgQNyD4Ofvr-756x1080.jpg'}, {'中文名稱': '名偵探柯南：緋色的彈丸', '英文名稱': 'DetectiveConantheMovie:TheScarletBullet', '上映日期': '2021-07-13', '期待度': '95%', '滿意度': '4.1', '封面照片網址': 'https://movies.yahoo.com.tw/x/r/w420/i/o/production/movies/March2021/2htM4AVR8cE04XoRTT9F-800x1191.jpg'}, {'中文名稱': '死亡漩渦：奪魂鋸新遊戲', '英文名稱': 'Spiral:FromTheBookOfSaw', '上映日期': '2021-07-13', '期待度': '96%', '滿意度': '3.4', '封面照片網址': 'https://movies.yahoo.com.tw/x/r/w420/i/o/production/movies/April2021/WO4Uld8oNyicC1BcJ2Mw-800x1139.jpg'}, {'中文名稱': '搖滾農莊錄音趣', '英文名稱': 'Rockfield:TheStudioontheFarm', '上映日期': '2021-07-13', '期待度': '88%', '滿意度': '0.0', '封面照片網址': 'https://movies.yahoo.com.tw/x/r/w420/i/o/production/movies/March2021/oSBlFPneboUEzQM13oFJ-759x1080.jpg'}, {'中文名稱': '玩命鈔劫', '英文名稱': 'WrathofMan', '上映日期': '2021-07-13', '期待度': '98%', '滿意度': '4.2', '封面照片網址': 'https://movies.yahoo.com.tw/x/r/w420/i/o/production/movies/July2021/U3YFurHjW3H830GP1gbJ-756x1080.jpg'}, {'中文名稱': '一級任務', '英文名稱': 'Voyagers', '上映日期': '2021-04-29', '期待度': '92%', '滿意度': '3.1', '封面照片網址': 'https://movies.yahoo.com.tw/x/r/w420/i/o/production/movies/April2021/ReohdzgwhHxCXnpkPM8P-756x1080.jpg'}, {'中文名稱': '真．鮫島事件', '英文名稱': 'TheSamejimaIncident', '上映日期': '2021-04-23', '期待度': '89%', '滿意度': '3.7', '封面照片網址': 'https://movies.yahoo.com.tw/x/r/w420/i/o/production/movies/April2021/zgLtPM2oOyn2PC2GhB1M-763x1080.jpg'}, {'中文名稱': '聽見歌再唱', '英文名稱': 'ListenBeforeYouSing', '上映日期': '2021-04-16', '期待度': '91%', '滿意度': '4.2', '封面照片網址': 'https://movies.yahoo.com.tw/x/r/w420/i/o/production/movies/March2021/Li5ikEWlp63wbE4lLWWb-757x1080.jpg'}]\n",
            "花束般的戀愛 4.4\n",
            "罪之聲 4.4\n",
            "路卡的夏天 4.4\n",
            "自殺突擊隊：集結 4.3\n",
            "聽見歌再唱 4.2\n",
            "玩命鈔劫 4.2\n",
            "燕尾蝶：數位經典版 4.2\n",
            "失控的審判 4.2\n",
            "薄荷糖 4.2\n",
            "名偵探柯南：緋色的彈丸 4.1\n",
            "極速引爆 4.1\n",
            "厲陰宅3：是惡魔逼我的 4.0\n",
            "叢林奇航 4.0\n",
            "驅魔禁區 4.0\n",
            "除暴 3.9\n",
            "黑寡婦 3.8\n",
            "怪奇大廈 3.8\n",
            "真．鮫島事件 3.7\n",
            "貝加爾湖隱居札記：在這喧囂的世界，一個人到西伯利亞森林住半年 3.6\n",
            "手捲煙 3.5\n",
            "群青戰記 3.5\n",
            "LIPXLIP享受這世界的方法 3.5\n",
            "死亡漩渦：奪魂鋸新遊戲 3.4\n",
            "詭老 3.4\n",
            "怪物奇兵全新世代 3.3\n",
            "太陽出來之後 3.2\n",
            "一級任務 3.1\n",
            "甲子園：夢想競技場 2.3\n",
            "青春：第50屆日本全國高中棒球錦標賽 2.2\n",
            "搖滾農莊錄音趣 0.0\n",
            "韓國校園恐怖怪談：點名沒到的學生 0.0\n",
            "野蠻糾碴隊 0.0\n",
            "宇宙特攻隊 0.0\n",
            "理髮師的男人經典數位修復 0.0\n",
            "破碎的瞬間 0.0\n",
            "淘寶少年 0.0\n",
            "小王子公主心 0.0\n",
            "合法伴侶 0.0\n",
            "雙面薇若妮卡經典數位修復 0.0\n",
            "人聲 0.0\n"
          ],
          "name": "stdout"
        }
      ]
    }
  ]
}