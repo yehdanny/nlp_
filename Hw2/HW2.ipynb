{
  "nbformat": 4,
  "nbformat_minor": 0,
  "metadata": {
    "colab": {
      "name": "HW2.ipynb",
      "provenance": [],
      "collapsed_sections": [],
      "toc_visible": true
    },
    "kernelspec": {
      "name": "python3",
      "display_name": "Python 3"
    },
    "language_info": {
      "name": "python"
    }
  },
  "cells": [
    {
      "cell_type": "markdown",
      "metadata": {
        "id": "PBfiQN5Rtgse"
      },
      "source": [
        "# DEMO"
      ]
    },
    {
      "cell_type": "code",
      "metadata": {
        "id": "ZJKU096LeBqn"
      },
      "source": [
        "#https://movies.yahoo.com.tw/movieinfo_main/\n",
        "import requests\n",
        "from bs4 import BeautifulSoup\n",
        "try:\n",
        "  url = 'https://movies.yahoo.com.tw/movieinfo_main/'\n",
        "  k=1 #1~6000\n",
        "  infos = []\n",
        "  for k in range(1,10000):\n",
        "    url = 'https://movies.yahoo.com.tw/movieinfo_main/'\n",
        "    url=url+str(k)\n",
        "    #print(url)\n",
        "    r = requests.get(url)\n",
        "    soup = BeautifulSoup(r.text)\n",
        "    info = {}\n",
        "    for d in soup.find_all('div', class_=\"table\"):\n",
        "      \n",
        "      info['中文名稱'] = d.find('div', class_='movie_intro_info_r').h1.text\n",
        "      info['分類'] = d.find('div' ,class_='level_name').find('a', class_='gabtn').text.strip()\n",
        "      info['上映日期'] = d.find('div', class_='movie_intro_info_r').span.text.split('上映日期：')[1]\n",
        "      infos.append(info)\n",
        "    for d in soup.find_all('div', class_=\"gray_infobox storeinfo\"):\n",
        "      info['劇情介紹'] = d.find('div' ,class_='gray_infobox_inner').span.text.strip()\n",
        "except:\n",
        "    print(k)\n",
        "infos"
      ],
      "execution_count": null,
      "outputs": []
    },
    {
      "cell_type": "markdown",
      "metadata": {
        "id": "s82wscJPtjvY"
      },
      "source": [
        "<hr><h1>SAVE CSV"
      ]
    },
    {
      "cell_type": "code",
      "metadata": {
        "id": "sGJBniK3pibt"
      },
      "source": [
        "import pandas as pd\n",
        "df = pd.DataFrame(infos)\n",
        "df.to_csv('movies.csv', encoding='utf_8_sig')\n",
        "df"
      ],
      "execution_count": null,
      "outputs": []
    },
    {
      "cell_type": "code",
      "metadata": {
        "id": "hoEaxKK-pkce"
      },
      "source": [
        ""
      ],
      "execution_count": null,
      "outputs": []
    }
  ]
}